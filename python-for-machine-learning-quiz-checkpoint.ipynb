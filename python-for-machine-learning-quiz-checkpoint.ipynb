{
 "cells": [
  {
   "cell_type": "code",
   "execution_count": 1,
   "id": "007b0f41",
   "metadata": {},
   "outputs": [
    {
     "name": "stderr",
     "output_type": "stream",
     "text": [
      "C:\\Users\\DOVE\\anaconda3\\lib\\site-packages\\IPython\\core\\interactiveshell.py:3444: FutureWarning: The error_bad_lines argument has been deprecated and will be removed in a future version.\n",
      "\n",
      "\n",
      "  exec(code_obj, self.user_global_ns, self.user_ns)\n",
      "b'Skipping line 113: expected 1 fields, saw 2\\nSkipping line 114: expected 1 fields, saw 3\\nSkipping line 119: expected 1 fields, saw 3\\nSkipping line 120: expected 1 fields, saw 4\\nSkipping line 154: expected 1 fields, saw 376\\nSkipping line 155: expected 1 fields, saw 2\\nSkipping line 170: expected 1 fields, saw 2\\nSkipping line 223: expected 1 fields, saw 3\\nSkipping line 237: expected 1 fields, saw 6\\nSkipping line 261: expected 1 fields, saw 4\\nSkipping line 266: expected 1 fields, saw 10\\nSkipping line 271: expected 1 fields, saw 10\\nSkipping line 276: expected 1 fields, saw 10\\nSkipping line 281: expected 1 fields, saw 10\\nSkipping line 286: expected 1 fields, saw 10\\nSkipping line 291: expected 1 fields, saw 10\\nSkipping line 296: expected 1 fields, saw 10\\nSkipping line 301: expected 1 fields, saw 10\\nSkipping line 306: expected 1 fields, saw 10\\nSkipping line 311: expected 1 fields, saw 10\\nSkipping line 316: expected 1 fields, saw 10\\nSkipping line 327: expected 1 fields, saw 8\\nSkipping line 331: expected 1 fields, saw 8\\nSkipping line 339: expected 1 fields, saw 4\\nSkipping line 344: expected 1 fields, saw 10\\nSkipping line 351: expected 1 fields, saw 10\\nSkipping line 356: expected 1 fields, saw 10\\nSkipping line 361: expected 1 fields, saw 10\\nSkipping line 366: expected 1 fields, saw 10\\nSkipping line 371: expected 1 fields, saw 10\\nSkipping line 378: expected 1 fields, saw 10\\nSkipping line 383: expected 1 fields, saw 10\\nSkipping line 388: expected 1 fields, saw 10\\nSkipping line 393: expected 1 fields, saw 10\\nSkipping line 398: expected 1 fields, saw 10\\nSkipping line 409: expected 1 fields, saw 8\\nSkipping line 417: expected 1 fields, saw 4\\nSkipping line 422: expected 1 fields, saw 10\\nSkipping line 427: expected 1 fields, saw 10\\nSkipping line 432: expected 1 fields, saw 10\\nSkipping line 437: expected 1 fields, saw 10\\nSkipping line 462: expected 1 fields, saw 2\\nSkipping line 661: expected 1 fields, saw 6\\nSkipping line 662: expected 1 fields, saw 3\\nSkipping line 669: expected 1 fields, saw 6\\nSkipping line 670: expected 1 fields, saw 8\\nSkipping line 764: expected 1 fields, saw 6\\nSkipping line 771: expected 1 fields, saw 6\\nSkipping line 780: expected 1 fields, saw 6\\nSkipping line 802: expected 1 fields, saw 2\\nSkipping line 821: expected 1 fields, saw 6\\nSkipping line 832: expected 1 fields, saw 6\\nSkipping line 848: expected 1 fields, saw 3\\nSkipping line 860: expected 1 fields, saw 3\\nSkipping line 872: expected 1 fields, saw 3\\nSkipping line 884: expected 1 fields, saw 3\\nSkipping line 896: expected 1 fields, saw 3\\nSkipping line 908: expected 1 fields, saw 3\\nSkipping line 920: expected 1 fields, saw 3\\nSkipping line 931: expected 1 fields, saw 3\\nSkipping line 1199: expected 1 fields, saw 5\\nSkipping line 1277: expected 1 fields, saw 2\\nSkipping line 1351: expected 1 fields, saw 2\\nSkipping line 1381: expected 1 fields, saw 2\\nSkipping line 1398: expected 1 fields, saw 2\\nSkipping line 1404: expected 1 fields, saw 8\\nSkipping line 1507: expected 1 fields, saw 2\\nSkipping line 1512: expected 1 fields, saw 8\\nSkipping line 1513: expected 1 fields, saw 8\\nSkipping line 1514: expected 1 fields, saw 8\\nSkipping line 1515: expected 1 fields, saw 8\\nSkipping line 1516: expected 1 fields, saw 3\\nSkipping line 1517: expected 1 fields, saw 8\\nSkipping line 1518: expected 1 fields, saw 8\\nSkipping line 1519: expected 1 fields, saw 8\\nSkipping line 1520: expected 1 fields, saw 8\\nSkipping line 1521: expected 1 fields, saw 8\\nSkipping line 1522: expected 1 fields, saw 3\\n'\n"
     ]
    },
    {
     "ename": "KeyError",
     "evalue": "'Item'",
     "output_type": "error",
     "traceback": [
      "\u001b[1;31m---------------------------------------------------------------------------\u001b[0m",
      "\u001b[1;31mKeyError\u001b[0m                                  Traceback (most recent call last)",
      "\u001b[1;32m~\\AppData\\Local\\Temp/ipykernel_16180/2737429235.py\u001b[0m in \u001b[0;36m<module>\u001b[1;34m\u001b[0m\n\u001b[0;32m      2\u001b[0m \u001b[0murl\u001b[0m\u001b[1;33m=\u001b[0m\u001b[1;34m'https://github.com/HamoyeHQ/HDSC-Introduction-to-Python-for-machine-learning?raw=true'\u001b[0m\u001b[1;33m\u001b[0m\u001b[1;33m\u001b[0m\u001b[0m\n\u001b[0;32m      3\u001b[0m \u001b[0mfuel_data\u001b[0m \u001b[1;33m=\u001b[0m \u001b[0mpd\u001b[0m\u001b[1;33m.\u001b[0m\u001b[0mread_csv\u001b[0m\u001b[1;33m(\u001b[0m\u001b[0murl\u001b[0m\u001b[1;33m,\u001b[0m \u001b[0merror_bad_lines\u001b[0m\u001b[1;33m=\u001b[0m\u001b[1;32mFalse\u001b[0m\u001b[1;33m)\u001b[0m\u001b[1;33m\u001b[0m\u001b[1;33m\u001b[0m\u001b[0m\n\u001b[1;32m----> 4\u001b[1;33m \u001b[0mfuel_data\u001b[0m\u001b[1;33m.\u001b[0m\u001b[0mgroupby\u001b[0m\u001b[1;33m(\u001b[0m\u001b[1;34m'Item'\u001b[0m\u001b[1;33m)\u001b[0m\u001b[1;33m[\u001b[0m\u001b[1;34m'Item'\u001b[0m\u001b[1;33m]\u001b[0m\u001b[1;33m.\u001b[0m\u001b[0mcount\u001b[0m\u001b[1;33m(\u001b[0m\u001b[1;33m)\u001b[0m\u001b[1;33m\u001b[0m\u001b[1;33m\u001b[0m\u001b[0m\n\u001b[0m\u001b[0;32m      5\u001b[0m \u001b[0mfuel_data\u001b[0m\u001b[1;33m[\u001b[0m\u001b[1;33m[\u001b[0m\u001b[1;34m'Item'\u001b[0m\u001b[1;33m]\u001b[0m\u001b[1;33m]\u001b[0m \u001b[1;33m=\u001b[0m \u001b[0mfuel_data\u001b[0m\u001b[1;33m[\u001b[0m\u001b[1;33m[\u001b[0m\u001b[1;34m'Item'\u001b[0m\u001b[1;33m]\u001b[0m\u001b[1;33m]\u001b[0m\u001b[1;33m.\u001b[0m\u001b[0mfillna\u001b[0m\u001b[1;33m(\u001b[0m\u001b[0mvalue\u001b[0m\u001b[1;33m=\u001b[0m\u001b[1;34m'mcf'\u001b[0m\u001b[1;33m)\u001b[0m\u001b[1;33m\u001b[0m\u001b[1;33m\u001b[0m\u001b[0m\n\u001b[0;32m      6\u001b[0m \u001b[1;33m\u001b[0m\u001b[0m\n",
      "\u001b[1;32m~\\anaconda3\\lib\\site-packages\\pandas\\core\\frame.py\u001b[0m in \u001b[0;36mgroupby\u001b[1;34m(self, by, axis, level, as_index, sort, group_keys, squeeze, observed, dropna)\u001b[0m\n\u001b[0;32m   7629\u001b[0m         \u001b[1;31m# error: Argument \"squeeze\" to \"DataFrameGroupBy\" has incompatible type\u001b[0m\u001b[1;33m\u001b[0m\u001b[1;33m\u001b[0m\u001b[0m\n\u001b[0;32m   7630\u001b[0m         \u001b[1;31m# \"Union[bool, NoDefault]\"; expected \"bool\"\u001b[0m\u001b[1;33m\u001b[0m\u001b[1;33m\u001b[0m\u001b[0m\n\u001b[1;32m-> 7631\u001b[1;33m         return DataFrameGroupBy(\n\u001b[0m\u001b[0;32m   7632\u001b[0m             \u001b[0mobj\u001b[0m\u001b[1;33m=\u001b[0m\u001b[0mself\u001b[0m\u001b[1;33m,\u001b[0m\u001b[1;33m\u001b[0m\u001b[1;33m\u001b[0m\u001b[0m\n\u001b[0;32m   7633\u001b[0m             \u001b[0mkeys\u001b[0m\u001b[1;33m=\u001b[0m\u001b[0mby\u001b[0m\u001b[1;33m,\u001b[0m\u001b[1;33m\u001b[0m\u001b[1;33m\u001b[0m\u001b[0m\n",
      "\u001b[1;32m~\\anaconda3\\lib\\site-packages\\pandas\\core\\groupby\\groupby.py\u001b[0m in \u001b[0;36m__init__\u001b[1;34m(self, obj, keys, axis, level, grouper, exclusions, selection, as_index, sort, group_keys, squeeze, observed, mutated, dropna)\u001b[0m\n\u001b[0;32m    887\u001b[0m             \u001b[1;32mfrom\u001b[0m \u001b[0mpandas\u001b[0m\u001b[1;33m.\u001b[0m\u001b[0mcore\u001b[0m\u001b[1;33m.\u001b[0m\u001b[0mgroupby\u001b[0m\u001b[1;33m.\u001b[0m\u001b[0mgrouper\u001b[0m \u001b[1;32mimport\u001b[0m \u001b[0mget_grouper\u001b[0m\u001b[1;33m\u001b[0m\u001b[1;33m\u001b[0m\u001b[0m\n\u001b[0;32m    888\u001b[0m \u001b[1;33m\u001b[0m\u001b[0m\n\u001b[1;32m--> 889\u001b[1;33m             grouper, exclusions, obj = get_grouper(\n\u001b[0m\u001b[0;32m    890\u001b[0m                 \u001b[0mobj\u001b[0m\u001b[1;33m,\u001b[0m\u001b[1;33m\u001b[0m\u001b[1;33m\u001b[0m\u001b[0m\n\u001b[0;32m    891\u001b[0m                 \u001b[0mkeys\u001b[0m\u001b[1;33m,\u001b[0m\u001b[1;33m\u001b[0m\u001b[1;33m\u001b[0m\u001b[0m\n",
      "\u001b[1;32m~\\anaconda3\\lib\\site-packages\\pandas\\core\\groupby\\grouper.py\u001b[0m in \u001b[0;36mget_grouper\u001b[1;34m(obj, key, axis, level, sort, observed, mutated, validate, dropna)\u001b[0m\n\u001b[0;32m    860\u001b[0m                 \u001b[0min_axis\u001b[0m\u001b[1;33m,\u001b[0m \u001b[0mlevel\u001b[0m\u001b[1;33m,\u001b[0m \u001b[0mgpr\u001b[0m \u001b[1;33m=\u001b[0m \u001b[1;32mFalse\u001b[0m\u001b[1;33m,\u001b[0m \u001b[0mgpr\u001b[0m\u001b[1;33m,\u001b[0m \u001b[1;32mNone\u001b[0m\u001b[1;33m\u001b[0m\u001b[1;33m\u001b[0m\u001b[0m\n\u001b[0;32m    861\u001b[0m             \u001b[1;32melse\u001b[0m\u001b[1;33m:\u001b[0m\u001b[1;33m\u001b[0m\u001b[1;33m\u001b[0m\u001b[0m\n\u001b[1;32m--> 862\u001b[1;33m                 \u001b[1;32mraise\u001b[0m \u001b[0mKeyError\u001b[0m\u001b[1;33m(\u001b[0m\u001b[0mgpr\u001b[0m\u001b[1;33m)\u001b[0m\u001b[1;33m\u001b[0m\u001b[1;33m\u001b[0m\u001b[0m\n\u001b[0m\u001b[0;32m    863\u001b[0m         \u001b[1;32melif\u001b[0m \u001b[0misinstance\u001b[0m\u001b[1;33m(\u001b[0m\u001b[0mgpr\u001b[0m\u001b[1;33m,\u001b[0m \u001b[0mGrouper\u001b[0m\u001b[1;33m)\u001b[0m \u001b[1;32mand\u001b[0m \u001b[0mgpr\u001b[0m\u001b[1;33m.\u001b[0m\u001b[0mkey\u001b[0m \u001b[1;32mis\u001b[0m \u001b[1;32mnot\u001b[0m \u001b[1;32mNone\u001b[0m\u001b[1;33m:\u001b[0m\u001b[1;33m\u001b[0m\u001b[1;33m\u001b[0m\u001b[0m\n\u001b[0;32m    864\u001b[0m             \u001b[1;31m# Add key to exclusions\u001b[0m\u001b[1;33m\u001b[0m\u001b[1;33m\u001b[0m\u001b[0m\n",
      "\u001b[1;31mKeyError\u001b[0m: 'Item'"
     ]
    }
   ],
   "source": [
    "import pandas as pd\n",
    "url='https://github.com/HamoyeHQ/HDSC-Introduction-to-Python-for-machine-learning?raw=true'\n",
    "fuel_data = pd.read_csv(url, error_bad_lines=False)\n",
    "fuel_data.groupby('Item')['Item'].count()\n",
    "fuel_data[['Item']] = fuel_data[['Item']].fillna(value='mcf')\n",
    "\n",
    "\n",
    "\n"
   ]
  },
  {
   "cell_type": "code",
   "execution_count": null,
   "id": "a7903efa",
   "metadata": {},
   "outputs": [],
   "source": [
    "fuel_data.groupby('Y2014')['Y2014'].count()\n",
    "fuel_data[['Y2014']] = fuel_data[['Y2014']].fillna(value='mcf')\n"
   ]
  },
  {
   "cell_type": "code",
   "execution_count": null,
   "id": "0a66c7be",
   "metadata": {},
   "outputs": [],
   "source": [
    "fuel_data.groupby('Y2014')['Y2014'].count()\n"
   ]
  },
  {
   "cell_type": "code",
   "execution_count": 27,
   "id": "1af94e74",
   "metadata": {},
   "outputs": [
    {
     "ename": "NameError",
     "evalue": "name 'item_data' is not defined",
     "output_type": "error",
     "traceback": [
      "\u001b[1;31m---------------------------------------------------------------------------\u001b[0m",
      "\u001b[1;31mNameError\u001b[0m                                 Traceback (most recent call last)",
      "\u001b[1;32m~\\AppData\\Local\\Temp/ipykernel_2656/587054525.py\u001b[0m in \u001b[0;36m<module>\u001b[1;34m\u001b[0m\n\u001b[1;32m----> 1\u001b[1;33m \u001b[0mitem_data\u001b[0m\u001b[1;33m.\u001b[0m\u001b[0misnull\u001b[0m\u001b[1;33m(\u001b[0m\u001b[1;33m)\u001b[0m\u001b[1;33m.\u001b[0m\u001b[0msum\u001b[0m\u001b[1;33m(\u001b[0m\u001b[1;33m)\u001b[0m\u001b[1;33m\u001b[0m\u001b[1;33m\u001b[0m\u001b[0m\n\u001b[0m",
      "\u001b[1;31mNameError\u001b[0m: name 'item_data' is not defined"
     ]
    }
   ],
   "source": [
    "item_data.isnull().sum()"
   ]
  },
  {
   "cell_type": "code",
   "execution_count": null,
   "id": "0d0bbe4f",
   "metadata": {},
   "outputs": [],
   "source": []
  }
 ],
 "metadata": {
  "kernelspec": {
   "display_name": "Python 3 (ipykernel)",
   "language": "python",
   "name": "python3"
  },
  "language_info": {
   "codemirror_mode": {
    "name": "ipython",
    "version": 3
   },
   "file_extension": ".py",
   "mimetype": "text/x-python",
   "name": "python",
   "nbconvert_exporter": "python",
   "pygments_lexer": "ipython3",
   "version": "3.9.7"
  }
 },
 "nbformat": 4,
 "nbformat_minor": 5
}
